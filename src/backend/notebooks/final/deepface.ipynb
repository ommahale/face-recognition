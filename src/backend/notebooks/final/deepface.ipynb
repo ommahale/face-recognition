{
 "cells": [
  {
   "cell_type": "code",
   "execution_count": 1,
   "metadata": {},
   "outputs": [
    {
     "name": "stdout",
     "output_type": "stream",
     "text": [
      "WARNING:tensorflow:From d:\\code\\DL\\src\\backend\\.venv\\Lib\\site-packages\\tf_keras\\src\\losses.py:2976: The name tf.losses.sparse_softmax_cross_entropy is deprecated. Please use tf.compat.v1.losses.sparse_softmax_cross_entropy instead.\n",
      "\n"
     ]
    }
   ],
   "source": [
    "from deepface import DeepFace"
   ]
  },
  {
   "cell_type": "code",
   "execution_count": 3,
   "metadata": {},
   "outputs": [
    {
     "name": "stdout",
     "output_type": "stream",
     "text": [
      "24-04-09 18:08:20 - Searching input.jpg in 11 length datastore\n",
      "24-04-09 18:08:20 - find function duration 0.28048181533813477 seconds\n"
     ]
    },
    {
     "data": {
      "text/html": [
       "<div>\n",
       "<style scoped>\n",
       "    .dataframe tbody tr th:only-of-type {\n",
       "        vertical-align: middle;\n",
       "    }\n",
       "\n",
       "    .dataframe tbody tr th {\n",
       "        vertical-align: top;\n",
       "    }\n",
       "\n",
       "    .dataframe thead th {\n",
       "        text-align: right;\n",
       "    }\n",
       "</style>\n",
       "<table border=\"1\" class=\"dataframe\">\n",
       "  <thead>\n",
       "    <tr style=\"text-align: right;\">\n",
       "      <th></th>\n",
       "      <th>identity</th>\n",
       "      <th>hash</th>\n",
       "      <th>target_x</th>\n",
       "      <th>target_y</th>\n",
       "      <th>target_w</th>\n",
       "      <th>target_h</th>\n",
       "      <th>source_x</th>\n",
       "      <th>source_y</th>\n",
       "      <th>source_w</th>\n",
       "      <th>source_h</th>\n",
       "      <th>threshold</th>\n",
       "      <th>distance</th>\n",
       "    </tr>\n",
       "  </thead>\n",
       "  <tbody>\n",
       "    <tr>\n",
       "      <th>0</th>\n",
       "      <td>./db\\Om\\ed4b985b-1316-4da8-8789-2844bd0d29e7.jpg</td>\n",
       "      <td>01a9cafcb9d2b8cb5047e5879eefc3f4ed20371a</td>\n",
       "      <td>217</td>\n",
       "      <td>110</td>\n",
       "      <td>140</td>\n",
       "      <td>140</td>\n",
       "      <td>191</td>\n",
       "      <td>67</td>\n",
       "      <td>159</td>\n",
       "      <td>159</td>\n",
       "      <td>0.68</td>\n",
       "      <td>0.420350</td>\n",
       "    </tr>\n",
       "    <tr>\n",
       "      <th>1</th>\n",
       "      <td>./db\\Om\\a45de956-4c45-4480-bdfd-90bf4074b808.jpg</td>\n",
       "      <td>34f03e92454cc41241c383d176de786b28b93fea</td>\n",
       "      <td>58</td>\n",
       "      <td>22</td>\n",
       "      <td>163</td>\n",
       "      <td>163</td>\n",
       "      <td>191</td>\n",
       "      <td>67</td>\n",
       "      <td>159</td>\n",
       "      <td>159</td>\n",
       "      <td>0.68</td>\n",
       "      <td>0.655659</td>\n",
       "    </tr>\n",
       "  </tbody>\n",
       "</table>\n",
       "</div>"
      ],
      "text/plain": [
       "                                           identity  \\\n",
       "0  ./db\\Om\\ed4b985b-1316-4da8-8789-2844bd0d29e7.jpg   \n",
       "1  ./db\\Om\\a45de956-4c45-4480-bdfd-90bf4074b808.jpg   \n",
       "\n",
       "                                       hash  target_x  target_y  target_w  \\\n",
       "0  01a9cafcb9d2b8cb5047e5879eefc3f4ed20371a       217       110       140   \n",
       "1  34f03e92454cc41241c383d176de786b28b93fea        58        22       163   \n",
       "\n",
       "   target_h  source_x  source_y  source_w  source_h  threshold  distance  \n",
       "0       140       191        67       159       159       0.68  0.420350  \n",
       "1       163       191        67       159       159       0.68  0.655659  "
      ]
     },
     "execution_count": 3,
     "metadata": {},
     "output_type": "execute_result"
    }
   ],
   "source": [
    "DeepFace.find('input.jpg', db_path='./db')[0]"
   ]
  },
  {
   "cell_type": "code",
   "execution_count": 7,
   "metadata": {},
   "outputs": [
    {
     "name": "stdout",
     "output_type": "stream",
     "text": [
      "24-04-07 13:40:21 - Found 9 newly added image(s), 0 removed image(s), 0 replaced image(s).\n"
     ]
    },
    {
     "name": "stderr",
     "output_type": "stream",
     "text": [
      "Finding representations:   0%|          | 0/9 [00:00<?, ?it/s]"
     ]
    },
    {
     "name": "stdout",
     "output_type": "stream",
     "text": [
      "24-04-07 13:40:21 - 🔴 Exception while extracting faces from ./db\\Om\\70b9aeef-4eed-4764-8203-1658f61911cb.jpg: Face could not be detected in ./db\\Om\\70b9aeef-4eed-4764-8203-1658f61911cb.jpg.Please confirm that the picture is a face photo or consider to set enforce_detection param to False.\n"
     ]
    },
    {
     "name": "stderr",
     "output_type": "stream",
     "text": [
      "Finding representations:  56%|█████▌    | 5/9 [00:02<00:01,  2.25it/s]"
     ]
    },
    {
     "name": "stdout",
     "output_type": "stream",
     "text": [
      "24-04-07 13:40:24 - 🔴 Exception while extracting faces from ./db\\Om\\5f0e3b17-2857-422a-83c1-d3cc8054e9f6.jpg: Face could not be detected in ./db\\Om\\5f0e3b17-2857-422a-83c1-d3cc8054e9f6.jpg.Please confirm that the picture is a face photo or consider to set enforce_detection param to False.\n"
     ]
    },
    {
     "name": "stderr",
     "output_type": "stream",
     "text": [
      "Finding representations: 100%|██████████| 9/9 [00:03<00:00,  2.48it/s]\n"
     ]
    },
    {
     "name": "stdout",
     "output_type": "stream",
     "text": [
      "24-04-07 13:40:25 - There are now 9 representations in ds_vggface_opencv_v2.pkl\n",
      "24-04-07 13:40:25 - Searching input.jpg in 9 length datastore\n",
      "24-04-07 13:40:25 - find function duration 4.003211259841919 seconds\n"
     ]
    },
    {
     "data": {
      "text/plain": [
       "'Aaron'"
      ]
     },
     "execution_count": 7,
     "metadata": {},
     "output_type": "execute_result"
    }
   ],
   "source": [
    "DeepFace.find('input.jpg', db_path='./db')[0]['identity'][0].split('\\\\')[-2]"
   ]
  },
  {
   "cell_type": "code",
   "execution_count": null,
   "metadata": {},
   "outputs": [],
   "source": []
  }
 ],
 "metadata": {
  "kernelspec": {
   "display_name": "venv",
   "language": "python",
   "name": "python3"
  },
  "language_info": {
   "codemirror_mode": {
    "name": "ipython",
    "version": 3
   },
   "file_extension": ".py",
   "mimetype": "text/x-python",
   "name": "python",
   "nbconvert_exporter": "python",
   "pygments_lexer": "ipython3",
   "version": "3.11.3"
  }
 },
 "nbformat": 4,
 "nbformat_minor": 2
}
