{
 "cells": [
  {
   "cell_type": "code",
   "execution_count": 1,
   "metadata": {},
   "outputs": [
    {
     "name": "stdout",
     "output_type": "stream",
     "text": [
      "WARNING:tensorflow:From d:\\code\\DL\\venv\\Lib\\site-packages\\tf_keras\\src\\losses.py:2976: The name tf.losses.sparse_softmax_cross_entropy is deprecated. Please use tf.compat.v1.losses.sparse_softmax_cross_entropy instead.\n",
      "\n"
     ]
    }
   ],
   "source": [
    "from deepface import DeepFace"
   ]
  },
  {
   "cell_type": "code",
   "execution_count": 6,
   "metadata": {},
   "outputs": [
    {
     "name": "stdout",
     "output_type": "stream",
     "text": [
      "24-04-07 13:27:59 - Searching input.jpg in 9 length datastore\n",
      "24-04-07 13:28:01 - find function duration 1.6305713653564453 seconds\n"
     ]
    },
    {
     "data": {
      "text/plain": [
       "'Aaron'"
      ]
     },
     "execution_count": 6,
     "metadata": {},
     "output_type": "execute_result"
    }
   ],
   "source": [
    "DeepFace.find('input.jpg', db_path='./db')[0]['identity'][0].split('\\\\')[-2]"
   ]
  },
  {
   "cell_type": "code",
   "execution_count": 7,
   "metadata": {},
   "outputs": [
    {
     "name": "stdout",
     "output_type": "stream",
     "text": [
      "24-04-07 13:40:21 - Found 9 newly added image(s), 0 removed image(s), 0 replaced image(s).\n"
     ]
    },
    {
     "name": "stderr",
     "output_type": "stream",
     "text": [
      "Finding representations:   0%|          | 0/9 [00:00<?, ?it/s]"
     ]
    },
    {
     "name": "stdout",
     "output_type": "stream",
     "text": [
      "24-04-07 13:40:21 - 🔴 Exception while extracting faces from ./db\\Om\\70b9aeef-4eed-4764-8203-1658f61911cb.jpg: Face could not be detected in ./db\\Om\\70b9aeef-4eed-4764-8203-1658f61911cb.jpg.Please confirm that the picture is a face photo or consider to set enforce_detection param to False.\n"
     ]
    },
    {
     "name": "stderr",
     "output_type": "stream",
     "text": [
      "Finding representations:  56%|█████▌    | 5/9 [00:02<00:01,  2.25it/s]"
     ]
    },
    {
     "name": "stdout",
     "output_type": "stream",
     "text": [
      "24-04-07 13:40:24 - 🔴 Exception while extracting faces from ./db\\Om\\5f0e3b17-2857-422a-83c1-d3cc8054e9f6.jpg: Face could not be detected in ./db\\Om\\5f0e3b17-2857-422a-83c1-d3cc8054e9f6.jpg.Please confirm that the picture is a face photo or consider to set enforce_detection param to False.\n"
     ]
    },
    {
     "name": "stderr",
     "output_type": "stream",
     "text": [
      "Finding representations: 100%|██████████| 9/9 [00:03<00:00,  2.48it/s]\n"
     ]
    },
    {
     "name": "stdout",
     "output_type": "stream",
     "text": [
      "24-04-07 13:40:25 - There are now 9 representations in ds_vggface_opencv_v2.pkl\n",
      "24-04-07 13:40:25 - Searching input.jpg in 9 length datastore\n",
      "24-04-07 13:40:25 - find function duration 4.003211259841919 seconds\n"
     ]
    },
    {
     "data": {
      "text/plain": [
       "'Aaron'"
      ]
     },
     "execution_count": 7,
     "metadata": {},
     "output_type": "execute_result"
    }
   ],
   "source": [
    "DeepFace.find('input.jpg', db_path='./db')[0]['identity'][0].split('\\\\')[-2]"
   ]
  },
  {
   "cell_type": "code",
   "execution_count": null,
   "metadata": {},
   "outputs": [],
   "source": []
  }
 ],
 "metadata": {
  "kernelspec": {
   "display_name": "venv",
   "language": "python",
   "name": "python3"
  },
  "language_info": {
   "codemirror_mode": {
    "name": "ipython",
    "version": 3
   },
   "file_extension": ".py",
   "mimetype": "text/x-python",
   "name": "python",
   "nbconvert_exporter": "python",
   "pygments_lexer": "ipython3",
   "version": "3.11.3"
  }
 },
 "nbformat": 4,
 "nbformat_minor": 2
}
